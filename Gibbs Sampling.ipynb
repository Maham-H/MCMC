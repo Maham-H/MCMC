{
 "cells": [
  {
   "cell_type": "markdown",
   "metadata": {},
   "source": [
    "# Importing Packages"
   ]
  },
  {
   "cell_type": "code",
   "execution_count": 1,
   "metadata": {},
   "outputs": [],
   "source": [
    "import numpy as np\n",
    "import matplotlib.pyplot as plt\n",
    "import random\n",
    "import matplotlib.image as mpimg"
   ]
  },
  {
   "cell_type": "markdown",
   "metadata": {},
   "source": [
    "# Defining Gibbs sampling and sub functions"
   ]
  },
  {
   "cell_type": "code",
   "execution_count": 2,
   "metadata": {},
   "outputs": [],
   "source": [
    "def neighbor_value(yc, jn, kn, y):\n",
    "    \n",
    "    # wyc is the cumulative value of neighbours of j,k in y weighted by w\n",
    "    try:\n",
    "        yc += y[jn][kn]\n",
    "    except:\n",
    "        pass\n",
    "    return yc\n",
    "\n",
    "def neighbours(j, k, w, y):\n",
    "    \n",
    "    # j, k is the current index of the input\n",
    "    # wyc adds weighted neighbor values for the pixel\n",
    "    \n",
    "    yc = neighbor_value(0, j+1, k, y)\n",
    "    yc = neighbor_value(yc, j-1, k, y)\n",
    "    yc = neighbor_value(yc, j, k+1, y)\n",
    "    yc = neighbor_value(yc, j, k-1, y)\n",
    "    \n",
    "    return w * yc\n",
    "\n",
    "def sigmoid(S):\n",
    "    return 1/(1+np.exp(-S))\n",
    "\n",
    "\n",
    "def conditional_prob(j, k, w, b, y):\n",
    "    # i, j is the index of w\n",
    "    \n",
    "    wyc = neighbours(j, k, w, y) #wyc is w*y cummulated for neighbours with yi=1\n",
    "    \n",
    "    S = 2 * b[j][k] + 2 * wyc\n",
    "    \n",
    "    return sigmoid(S)\n",
    "\n",
    "\n",
    "def Gibbs(iter_max, b, w):\n",
    "    # iter_max : maximum number of iterations\n",
    "    # b,w : parameters\n",
    "    # y : initial input\n",
    "    y = np.ones(np.shape(b))\n",
    "\n",
    "    length,width=np.shape(b) # input dimensions\n",
    "    for t in range(iter_max):\n",
    "        ytemp = y #\n",
    "        for k in range(width):\n",
    "            for j in range(length):\n",
    "                pi = conditional_prob(j,k,w,b,ytemp)\n",
    "                r = np.random.rand(1)\n",
    "                # sampling\n",
    "                if r>pi: \n",
    "                    ytemp[j][k]=-1\n",
    "                else:\n",
    "                    ytemp[j][k]=+1\n",
    "        y = ytemp # updating y to new value\n",
    "\n",
    "    return y\n",
    "\n"
   ]
  },
  {
   "cell_type": "markdown",
   "metadata": {},
   "source": [
    "# Running Gibbs sample on a noisy image to clean it"
   ]
  },
  {
   "cell_type": "code",
   "execution_count": null,
   "metadata": {
    "scrolled": false
   },
   "outputs": [
    {
     "name": "stdout",
     "output_type": "stream",
     "text": [
      "iteration:  0\n"
     ]
    }
   ],
   "source": [
    "# reading image\n",
    "\n",
    "img = mpimg.imread('Data/im_noisy.png')  \n",
    "yin = np.zeros(np.shape(img))\n",
    "yin[ img == 0 ] = -1\n",
    "\n",
    "# hyper parameters    \n",
    "\n",
    "b = 0.5 * yin      # 0.5 being the factor that determines how close to the original input we want to be\n",
    "w = 0.45            # smoothing factor\n",
    "\n",
    "iter_max=10       # iterations in one gibbs sampling run\n",
    "iters=5           # total number of times we want to run the gibbs sampler\n",
    "\n",
    "\n",
    "mean_gibbs = np.zeros(np.shape(img))\n",
    "\n",
    "for i in range(iters):\n",
    "    \n",
    "    y = Gibbs(iter_max, b, w)\n",
    "    mean_gibbs += y\n",
    "    \n",
    "    if i%5==0:\n",
    "        print('iteration: ',i)\n",
    "    \n",
    "mean_gibbs = mean_gibbs/iters\n",
    "\n",
    "\n",
    "clean_img = mpimg.imread('Data/im_clean.png')  \n",
    "\n",
    "clean_img[ clean_img == 0 ] = -1\n",
    "\n"
   ]
  },
  {
   "cell_type": "markdown",
   "metadata": {},
   "source": [
    "# Plotting Input and output images "
   ]
  },
  {
   "cell_type": "code",
   "execution_count": null,
   "metadata": {},
   "outputs": [],
   "source": [
    "length, width = np.shape(img)\n",
    "\n",
    "fig,ax = plt.subplots()\n",
    "ax.imshow(-yin,cmap='Greys')\n",
    "\n",
    "fig,ax = plt.subplots()\n",
    "ax.imshow(-mean_gibbs,cmap='Greys')\n",
    "\n",
    "fig,ax = plt.subplots()\n",
    "ax.imshow(-clean_img,cmap='Greys')\n",
    "\n",
    "diff=np.abs(mean_gibbs-clean_img)\n",
    "absdiff=np.sum(diff)/(length*width)\n",
    "print('Absolute Difference  = ', absdiff)\n"
   ]
  },
  {
   "cell_type": "code",
   "execution_count": null,
   "metadata": {},
   "outputs": [],
   "source": []
  }
 ],
 "metadata": {
  "kernelspec": {
   "display_name": "Python 3 (ipykernel)",
   "language": "python",
   "name": "python3"
  },
  "language_info": {
   "codemirror_mode": {
    "name": "ipython",
    "version": 3
   },
   "file_extension": ".py",
   "mimetype": "text/x-python",
   "name": "python",
   "nbconvert_exporter": "python",
   "pygments_lexer": "ipython3",
   "version": "3.9.13"
  }
 },
 "nbformat": 4,
 "nbformat_minor": 4
}
